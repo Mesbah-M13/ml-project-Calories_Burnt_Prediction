{
 "cells": [
  {
   "cell_type": "markdown",
   "metadata": {
    "id": "OV2fEUKhqgk2"
   },
   "source": [
    "# **Calories Burnt Prediction**\n",
    "\n",
    "**Dataset Link:-** https://www.kaggle.com/code/pragathiputhran/calories-burnt-prediction/data"
   ]
  },
  {
   "cell_type": "code",
   "execution_count": null,
   "metadata": {
    "id": "AtA3KvQsqStv"
   },
   "outputs": [],
   "source": [
    "# import required libraries\n",
    "\n",
    "import pandas as pd\n",
    "import numpy as np\n",
    "import matplotlib.pyplot as plt\n",
    "import seaborn as sns\n",
    "\n",
    "#from sklearn.preprocessing import StandardScaler\n",
    "from sklearn.model_selection import train_test_split\n",
    "from xgboost import XGBRegressor\n",
    "from sklearn.linear_model import LinearRegression\n",
    "#from sklearn.linear_model import Ridge,Lasso\n",
    "from sklearn.tree import DecisionTreeRegressor\n",
    "from sklearn.ensemble import RandomForestRegressor\n",
    "from sklearn import metrics\n",
    "from statsmodels.stats.outliers_influence import variance_inflation_factor \n",
    "import pickle\n",
    "\n",
    "import warnings\n",
    "from warnings import filterwarnings\n",
    "filterwarnings(\"ignore\")\n",
    "\n",
    "sns.set()"
   ]
  },
  {
   "cell_type": "code",
   "execution_count": null,
   "metadata": {
    "colab": {
     "base_uri": "https://localhost:8080/",
     "height": 206
    },
    "id": "vPEAUK9s21i8",
    "outputId": "1fdb605a-ef06-4d36-f3cd-9796b8678438"
   },
   "outputs": [],
   "source": [
    "#Load the Calories dataset\n",
    "df1 = pd.read_csv(\"content/calories.csv\")\n",
    "df1.head()"
   ]
  },
  {
   "cell_type": "code",
   "execution_count": null,
   "metadata": {
    "colab": {
     "base_uri": "https://localhost:8080/"
    },
    "id": "DlqNfIEN3Ej5",
    "outputId": "2a8d428d-c964-4311-f31a-260f2faff8f1"
   },
   "outputs": [],
   "source": [
    "df1.shape"
   ]
  },
  {
   "cell_type": "code",
   "execution_count": null,
   "metadata": {
    "colab": {
     "base_uri": "https://localhost:8080/",
     "height": 206
    },
    "id": "KipnGzAI3Iyj",
    "outputId": "b02cdc28-f5bf-418a-f235-b95360b4cb8a"
   },
   "outputs": [],
   "source": [
    "#Load the Exercise Dataset\n",
    "df2 = pd.read_csv(\"content/exercise.csv\")\n",
    "df2.head()"
   ]
  },
  {
   "cell_type": "code",
   "execution_count": null,
   "metadata": {
    "colab": {
     "base_uri": "https://localhost:8080/"
    },
    "id": "M1Exq9VZ3cW3",
    "outputId": "e73a90a4-46d9-4cc1-a26e-c51072c378fd"
   },
   "outputs": [],
   "source": [
    "df2.shape"
   ]
  },
  {
   "cell_type": "markdown",
   "metadata": {
    "id": "h6W9HqeB3hWU"
   },
   "source": [
    "**Now Concatenate both the Dataframe i.e df1 and df2**"
   ]
  },
  {
   "cell_type": "code",
   "execution_count": null,
   "metadata": {
    "id": "cC517csw3esU"
   },
   "outputs": [],
   "source": [
    "\n",
    "df = pd.concat([df2,df1[\"Calories\"]],axis=1)"
   ]
  },
  {
   "cell_type": "code",
   "execution_count": null,
   "metadata": {
    "colab": {
     "base_uri": "https://localhost:8080/",
     "height": 206
    },
    "id": "cx0DvstT3zfN",
    "outputId": "18d6cd0a-085b-4ce8-dd5e-26ba97c3ac2a"
   },
   "outputs": [],
   "source": [
    "df.head()"
   ]
  },
  {
   "cell_type": "code",
   "execution_count": null,
   "metadata": {
    "colab": {
     "base_uri": "https://localhost:8080/"
    },
    "id": "JglCTz6u4uiB",
    "outputId": "610ca86c-31ad-48c7-8cd1-cf6aeaa89042"
   },
   "outputs": [],
   "source": [
    "df.info()"
   ]
  },
  {
   "cell_type": "code",
   "execution_count": null,
   "metadata": {
    "colab": {
     "base_uri": "https://localhost:8080/",
     "height": 300
    },
    "id": "-skDCZi0441n",
    "outputId": "88e11693-ef95-4fe8-c92e-55a25c66174d"
   },
   "outputs": [],
   "source": [
    "df.describe()"
   ]
  },
  {
   "cell_type": "code",
   "execution_count": null,
   "metadata": {
    "colab": {
     "base_uri": "https://localhost:8080/"
    },
    "id": "TPRe7o5B49h5",
    "outputId": "bc3358ec-94be-4c96-cd4d-6436730a8ea1"
   },
   "outputs": [],
   "source": [
    "df.isnull().sum()"
   ]
  },
  {
   "cell_type": "code",
   "execution_count": null,
   "metadata": {
    "id": "pXuOScc58_RT"
   },
   "outputs": [],
   "source": [
    "# drop User_ID column because this is not required from Main Dataframe itself\n",
    "\n",
    "df.drop(columns = [\"User_ID\"],axis=1,inplace =True)"
   ]
  },
  {
   "cell_type": "code",
   "execution_count": null,
   "metadata": {
    "colab": {
     "base_uri": "https://localhost:8080/",
     "height": 206
    },
    "id": "cRlFtBfL9aYj",
    "outputId": "95a4902f-f0b9-4910-e794-72c7b0d592ee"
   },
   "outputs": [],
   "source": [
    "df.head()"
   ]
  },
  {
   "cell_type": "code",
   "execution_count": null,
   "metadata": {
    "colab": {
     "base_uri": "https://localhost:8080/"
    },
    "id": "aLnTG6-cWaj0",
    "outputId": "68269517-93bb-4dd1-db7b-e8d664bbea08"
   },
   "outputs": [],
   "source": [
    "df.info()"
   ]
  },
  {
   "cell_type": "code",
   "execution_count": null,
   "metadata": {
    "id": "znZYmz4WWlX4"
   },
   "outputs": [],
   "source": []
  },
  {
   "cell_type": "markdown",
   "metadata": {
    "id": "MqPrmwzF6yvG"
   },
   "source": [
    "#### **Separate Categorical and Numerical Features**"
   ]
  },
  {
   "cell_type": "markdown",
   "metadata": {
    "id": "Q8Qdl3_g681N"
   },
   "source": [
    "**1. Categorical Feature**"
   ]
  },
  {
   "cell_type": "code",
   "execution_count": null,
   "metadata": {
    "colab": {
     "base_uri": "https://localhost:8080/"
    },
    "id": "me7ZXFII53Vz",
    "outputId": "482cc449-31f7-4da9-976a-c60f6b4101aa"
   },
   "outputs": [],
   "source": [
    "#Fatching Categorical Data\n",
    "cat_col=[col for col in df.columns if df[col].dtype=='O'] #-->Object-\"o\"\n",
    "cat_col"
   ]
  },
  {
   "cell_type": "code",
   "execution_count": null,
   "metadata": {
    "colab": {
     "base_uri": "https://localhost:8080/"
    },
    "id": "nIt0xQzu6LNX",
    "outputId": "8ef9e7c9-6266-4d87-a9a1-389b8aeeea59"
   },
   "outputs": [],
   "source": [
    "df[\"Gender\"].value_counts()"
   ]
  },
  {
   "cell_type": "code",
   "execution_count": null,
   "metadata": {
    "colab": {
     "base_uri": "https://localhost:8080/",
     "height": 285
    },
    "id": "btdaywCq6exI",
    "outputId": "78b38a6c-aa30-4a0c-a552-7a0d8fb8e555"
   },
   "outputs": [],
   "source": [
    "# plotting the gender column in count plot\n",
    "sns.countplot(x = df['Gender'])\n",
    "plt.show()"
   ]
  },
  {
   "cell_type": "code",
   "execution_count": null,
   "metadata": {
    "colab": {
     "base_uri": "https://localhost:8080/",
     "height": 424
    },
    "id": "bsOtKev29gMk",
    "outputId": "436c5787-ce09-457b-d4ab-d5eed111bc29"
   },
   "outputs": [],
   "source": [
    "pd.get_dummies(df[\"Gender\"],drop_first=True)"
   ]
  },
  {
   "cell_type": "code",
   "execution_count": null,
   "metadata": {
    "colab": {
     "base_uri": "https://localhost:8080/",
     "height": 206
    },
    "id": "t3wmpBvdW7aJ",
    "outputId": "ee4997c8-4967-4782-e560-23c6de068405"
   },
   "outputs": [],
   "source": [
    "categorical = df[cat_col]\n",
    "categorical.head()"
   ]
  },
  {
   "cell_type": "code",
   "execution_count": null,
   "metadata": {
    "id": "28_FgoO4hu99"
   },
   "outputs": [],
   "source": [
    "categorical = pd.get_dummies(categorical[\"Gender\"],drop_first=True)"
   ]
  },
  {
   "cell_type": "code",
   "execution_count": null,
   "metadata": {
    "colab": {
     "base_uri": "https://localhost:8080/",
     "height": 424
    },
    "id": "fD54bShph9li",
    "outputId": "e9bb9652-ec40-41e2-b198-8b9015aa9f39"
   },
   "outputs": [],
   "source": [
    "categorical"
   ]
  },
  {
   "cell_type": "markdown",
   "metadata": {
    "id": "ON6dSMOm7EiW"
   },
   "source": [
    "**2.Numerical Features**"
   ]
  },
  {
   "cell_type": "code",
   "execution_count": null,
   "metadata": {
    "colab": {
     "base_uri": "https://localhost:8080/"
    },
    "id": "RzK74zKe7KLQ",
    "outputId": "ce984d40-0ad6-4d90-d0ec-128b1bb75c7a"
   },
   "outputs": [],
   "source": [
    "Num_col = [col for col in df.columns if df[col].dtype != \"O\"]\n",
    "Num_col"
   ]
  },
  {
   "cell_type": "code",
   "execution_count": null,
   "metadata": {
    "colab": {
     "base_uri": "https://localhost:8080/"
    },
    "id": "4NiV4oPi8WC2",
    "outputId": "047d0ede-7f92-4d45-b0f1-0cd35a047ac6"
   },
   "outputs": [],
   "source": [
    "df[Num_col].shape"
   ]
  },
  {
   "cell_type": "code",
   "execution_count": null,
   "metadata": {
    "colab": {
     "base_uri": "https://localhost:8080/",
     "height": 206
    },
    "id": "8WxwIDZdXIdR",
    "outputId": "ca643ee9-caa4-4713-93b8-7fb4b78e9db0"
   },
   "outputs": [],
   "source": [
    "Numerical = df[Num_col]\n",
    "Numerical.head() "
   ]
  },
  {
   "cell_type": "code",
   "execution_count": null,
   "metadata": {
    "colab": {
     "base_uri": "https://localhost:8080/"
    },
    "id": "itkPXtQ7XukQ",
    "outputId": "f257cd0a-551b-4cf7-933b-75337d19f7e3"
   },
   "outputs": [],
   "source": [
    "Numerical.shape"
   ]
  },
  {
   "cell_type": "code",
   "execution_count": null,
   "metadata": {
    "colab": {
     "base_uri": "https://localhost:8080/",
     "height": 705
    },
    "id": "KDKH9c6S_mll",
    "outputId": "2e8039cc-0806-4418-cb14-5898375778d1"
   },
   "outputs": [],
   "source": [
    "plt.figure(figsize=(20,15))\n",
    "plotnumber = 1\n",
    "\n",
    "for column in Numerical:\n",
    "  if plotnumber <= 8:\n",
    "    ax = plt.subplot(3,3,plotnumber)\n",
    "    sns.distplot(Numerical[column])\n",
    "    plt.xlabel(column,fontsize=15)\n",
    "  plotnumber+=1\n",
    "plt.show()"
   ]
  },
  {
   "cell_type": "code",
   "execution_count": null,
   "metadata": {
    "colab": {
     "base_uri": "https://localhost:8080/",
     "height": 616
    },
    "id": "lIWqvzE5bNwx",
    "outputId": "cf3e0c16-4757-4a4d-a2a3-4bc22ff97e8f"
   },
   "outputs": [],
   "source": [
    "# constructing a heatmap to understand the correlation\n",
    "\n",
    "plt.figure(figsize=(10,10))\n",
    "sns.heatmap(Numerical.corr(), cmap='Blues',annot = True)"
   ]
  },
  {
   "cell_type": "code",
   "execution_count": null,
   "metadata": {
    "id": "DL0SIX2ecExN"
   },
   "outputs": [],
   "source": []
  },
  {
   "cell_type": "markdown",
   "metadata": {
    "id": "U2hGFY6fiPwP"
   },
   "source": [
    "### **Concatenate Categorical and Numerical**"
   ]
  },
  {
   "cell_type": "code",
   "execution_count": null,
   "metadata": {
    "id": "Eu2zG-LYfH_N"
   },
   "outputs": [],
   "source": [
    "data = pd.concat([categorical,Numerical],axis=1)"
   ]
  },
  {
   "cell_type": "code",
   "execution_count": null,
   "metadata": {
    "colab": {
     "base_uri": "https://localhost:8080/",
     "height": 206
    },
    "id": "hOaghU02gOBa",
    "outputId": "d72dc3d7-7031-4f82-d446-e9c37bfc83c1"
   },
   "outputs": [],
   "source": [
    "data.head()"
   ]
  },
  {
   "cell_type": "code",
   "execution_count": null,
   "metadata": {
    "colab": {
     "base_uri": "https://localhost:8080/",
     "height": 612
    },
    "id": "M6IDfQLUiNTL",
    "outputId": "8a447a16-cd71-4a9d-f19f-bdf74ef78cac"
   },
   "outputs": [],
   "source": [
    "fig,ax = plt.subplots(figsize = (15,10))\n",
    "sns.boxplot(data=data,width = 0.5,fliersize = 3,ax=ax)"
   ]
  },
  {
   "cell_type": "code",
   "execution_count": null,
   "metadata": {
    "colab": {
     "base_uri": "https://localhost:8080/",
     "height": 707
    },
    "id": "1oacJE_mjLt7",
    "outputId": "ff232c14-d7c7-409e-c160-f9ad47550e6c"
   },
   "outputs": [],
   "source": [
    "plt.figure(figsize=(20,15))\n",
    "plotnumber = 1\n",
    "\n",
    "for column in data:\n",
    "  if plotnumber <= 8:\n",
    "    ax = plt.subplot(3,3,plotnumber)\n",
    "    sns.distplot(data[column])\n",
    "    plt.xlabel(column,fontsize=15)\n",
    "  plotnumber+=1\n",
    "plt.show()"
   ]
  },
  {
   "cell_type": "code",
   "execution_count": null,
   "metadata": {
    "colab": {
     "base_uri": "https://localhost:8080/"
    },
    "id": "D5Smgb_lmjnn",
    "outputId": "2c7cef65-2331-41c9-c5c9-524834861771"
   },
   "outputs": [],
   "source": [
    "data.columns"
   ]
  },
  {
   "cell_type": "code",
   "execution_count": null,
   "metadata": {
    "id": "uimi1VevnRBm"
   },
   "outputs": [],
   "source": [
    "X = data.drop(columns = [\"Calories\"],axis = 1)\n",
    "y = data[\"Calories\"]"
   ]
  },
  {
   "cell_type": "code",
   "execution_count": null,
   "metadata": {
    "colab": {
     "base_uri": "https://localhost:8080/",
     "height": 206
    },
    "id": "KqyC79dan7Ek",
    "outputId": "11aad973-a418-491a-e16a-efa67355ed65"
   },
   "outputs": [],
   "source": [
    "X.head()"
   ]
  },
  {
   "cell_type": "code",
   "execution_count": null,
   "metadata": {
    "colab": {
     "base_uri": "https://localhost:8080/"
    },
    "id": "V3S3XxrFn8GC",
    "outputId": "f2a8a51d-687c-40d5-e1be-7d593df0749f"
   },
   "outputs": [],
   "source": [
    "y.head()"
   ]
  },
  {
   "cell_type": "code",
   "execution_count": null,
   "metadata": {
    "id": "MjFln8Egojk-"
   },
   "outputs": [],
   "source": [
    "# Split the Data\n",
    "\n",
    "X_train,X_test,y_train,y_test = train_test_split(X,y,test_size = 0.2,random_state=1)"
   ]
  },
  {
   "cell_type": "code",
   "execution_count": null,
   "metadata": {
    "colab": {
     "base_uri": "https://localhost:8080/"
    },
    "id": "i1o_gpI_pSky",
    "outputId": "5c7e507c-4f76-49eb-c638-cb2fdeb2db6c"
   },
   "outputs": [],
   "source": [
    "print(\"Shape of X Train: \",X_train.shape)\n",
    "print(\"Shape of X Test: \",X_test.shape)\n",
    "print(\"Shape of y Train: \",y_train.shape)\n",
    "print(\"Shape of y Test: \",y_test.shape)"
   ]
  },
  {
   "cell_type": "code",
   "execution_count": null,
   "metadata": {
    "id": "SiLuB3BepTiR"
   },
   "outputs": [],
   "source": [
    "#from sklearn import metrics\n",
    "def predict(ml_model):\n",
    "    model=ml_model.fit(X_train,y_train)\n",
    "    print('Score : {}'.format(model.score(X_train,y_train)))\n",
    "    y_prediction=model.predict(X_test)\n",
    "    print('predictions are: \\n {}'.format(y_prediction))\n",
    "    print('\\n')\n",
    "\n",
    "    r2_score=metrics.r2_score(y_test,y_prediction)\n",
    "    print('r2 score: {}'.format(r2_score))\n",
    "\n",
    "    print('MAE:',metrics.mean_absolute_error(y_test,y_prediction))\n",
    "    print('MSE:',metrics.mean_squared_error(y_test,y_prediction))\n",
    "    print('RMSE:',np.sqrt(metrics.mean_squared_error(y_test,y_prediction)))\n",
    "    \n",
    "    sns.distplot(y_test-y_prediction)"
   ]
  },
  {
   "cell_type": "markdown",
   "metadata": {
    "id": "JH7qCEccrDt0"
   },
   "source": [
    "**XGB Regressor**"
   ]
  },
  {
   "cell_type": "code",
   "execution_count": null,
   "metadata": {
    "colab": {
     "base_uri": "https://localhost:8080/",
     "height": 479
    },
    "id": "Q5Tbv6m6pTek",
    "outputId": "76e6e4e5-390e-424f-b006-3f1525bf36e2"
   },
   "outputs": [],
   "source": [
    "regression = predict(XGBRegressor())\n",
    "regression"
   ]
  },
  {
   "cell_type": "markdown",
   "metadata": {
    "id": "Y0jPicsFxCOr"
   },
   "source": [
    "**Save the Model**"
   ]
  },
  {
   "cell_type": "code",
   "execution_count": null,
   "metadata": {
    "id": "rQ-e-fB9vccX"
   },
   "outputs": [],
   "source": [
    "# saving the model to the local file system\n",
    "filename = 'finalized_model.pickle'\n",
    "pickle.dump(regression, open(filename, 'wb'))"
   ]
  },
  {
   "cell_type": "markdown",
   "metadata": {
    "id": "dVJX825ErJMO"
   },
   "source": [
    "**Linear Regression**"
   ]
  },
  {
   "cell_type": "code",
   "execution_count": null,
   "metadata": {
    "colab": {
     "base_uri": "https://localhost:8080/",
     "height": 459
    },
    "id": "MeIUcXFIprxq",
    "outputId": "acc94372-e6a2-4782-b7b8-0c1b3c6855f4"
   },
   "outputs": [],
   "source": [
    "predict(LinearRegression())"
   ]
  },
  {
   "cell_type": "markdown",
   "metadata": {
    "id": "HSjr0QAErMpE"
   },
   "source": [
    "**DecisionTree Regression**"
   ]
  },
  {
   "cell_type": "code",
   "execution_count": null,
   "metadata": {
    "colab": {
     "base_uri": "https://localhost:8080/",
     "height": 441
    },
    "id": "vwxZjDTEqqLs",
    "outputId": "01ba11d4-df0b-4151-eba3-438117e86376"
   },
   "outputs": [],
   "source": [
    "predict(DecisionTreeRegressor())"
   ]
  },
  {
   "cell_type": "markdown",
   "metadata": {
    "id": "bya_R0qtrXLO"
   },
   "source": [
    "**RandomForest Regression**"
   ]
  },
  {
   "cell_type": "code",
   "execution_count": null,
   "metadata": {
    "colab": {
     "base_uri": "https://localhost:8080/",
     "height": 441
    },
    "id": "Q0D1eb1bquQq",
    "outputId": "a5f363f8-3bbe-41cf-a976-2aaca58650b6"
   },
   "outputs": [],
   "source": [
    "predict(RandomForestRegressor())"
   ]
  },
  {
   "cell_type": "code",
   "execution_count": null,
   "metadata": {
    "id": "HD3DLSjTqyw7"
   },
   "outputs": [],
   "source": []
  }
 ],
 "metadata": {
  "colab": {
   "provenance": []
  },
  "kernelspec": {
   "display_name": "Python 3 (ipykernel)",
   "language": "python",
   "name": "python3"
  },
  "language_info": {
   "codemirror_mode": {
    "name": "ipython",
    "version": 3
   },
   "file_extension": ".py",
   "mimetype": "text/x-python",
   "name": "python",
   "nbconvert_exporter": "python",
   "pygments_lexer": "ipython3",
   "version": "3.11.1"
  }
 },
 "nbformat": 4,
 "nbformat_minor": 1
}
